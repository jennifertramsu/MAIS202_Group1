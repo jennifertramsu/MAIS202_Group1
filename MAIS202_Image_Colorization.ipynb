{
  "cells": [
    {
      "cell_type": "markdown",
      "metadata": {
        "id": "view-in-github",
        "colab_type": "text"
      },
      "source": [
        "<a href=\"https://colab.research.google.com/github/jennifertramsu/MAIS202_Group1/blob/main/MAIS202_Image_Colorization.ipynb\" target=\"_parent\"><img src=\"https://colab.research.google.com/assets/colab-badge.svg\" alt=\"Open In Colab\"/></a>"
      ]
    },
    {
      "cell_type": "code",
      "execution_count": null,
      "metadata": {
        "id": "09OEn4f2h7rF"
      },
      "outputs": [],
      "source": [
        "# ----------------------------------------------------------------------------------------------\n",
        "# MAIS202 Group 1 - Fall 2022 Final Project\n",
        "# Jennifer Tram Su, Lucy Mao\n",
        "# Image Colourization\n",
        "#\n",
        "# Input : Single channel representation of greyscale image\n",
        "# Output : Two channel representation of colourized image\n",
        "#\n",
        "# https://algoritmaonline.com/image-colorization/\n",
        "# https://xiangyutang2.github.io/auto-colorization-autoencoders/\n",
        "# https://medium.com/@navmcgill/k-fold-cross-validation-in-keras-convolutional-neural-networks-835bed559d04\n",
        "# ----------------------------------------------------------------------------------------------\n",
        "\n",
        "# File Handling\n",
        "import glob\n",
        "from google.colab import files as f\n",
        "from google.colab import drive\n",
        "\n",
        "# Manipulation\n",
        "import numpy as np\n",
        "import json \n",
        "\n",
        "# Visualization\n",
        "from google.colab.patches import cv2_imshow\n",
        "from skimage.color import rgb2lab, lab2rgb\n",
        "from PIL import Image\n",
        "import cv2\n",
        "import matplotlib.pyplot as plt\n",
        "\n",
        "# Models\n",
        "import tensorflow as tf\n",
        "from keras.layers import Conv2D, UpSampling2D\n",
        "from keras.models import Sequential\n",
        "from keras.preprocessing.image import ImageDataGenerator\n",
        "\n",
        "# Presentation\n",
        "from flask import Flask, flash, request, redirect, url_for, render_template\n"
      ]
    },
    {
      "cell_type": "code",
      "execution_count": null,
      "metadata": {
        "id": "g-ygH3JgMOu6"
      },
      "outputs": [],
      "source": [
        "!pip install -q kaggle"
      ]
    },
    {
      "cell_type": "code",
      "execution_count": null,
      "metadata": {
        "colab": {
          "base_uri": "https://localhost:8080/",
          "height": 74
        },
        "id": "FqfyNj_TMPgy",
        "outputId": "35d83bd6-8f5d-49c8-84df-f3ffb549736b"
      },
      "outputs": [
        {
          "output_type": "display_data",
          "data": {
            "text/plain": [
              "<IPython.core.display.HTML object>"
            ],
            "text/html": [
              "\n",
              "     <input type=\"file\" id=\"files-e971892e-a34d-4305-b1a2-cfcd8e3c589f\" name=\"files[]\" multiple disabled\n",
              "        style=\"border:none\" />\n",
              "     <output id=\"result-e971892e-a34d-4305-b1a2-cfcd8e3c589f\">\n",
              "      Upload widget is only available when the cell has been executed in the\n",
              "      current browser session. Please rerun this cell to enable.\n",
              "      </output>\n",
              "      <script>// Copyright 2017 Google LLC\n",
              "//\n",
              "// Licensed under the Apache License, Version 2.0 (the \"License\");\n",
              "// you may not use this file except in compliance with the License.\n",
              "// You may obtain a copy of the License at\n",
              "//\n",
              "//      http://www.apache.org/licenses/LICENSE-2.0\n",
              "//\n",
              "// Unless required by applicable law or agreed to in writing, software\n",
              "// distributed under the License is distributed on an \"AS IS\" BASIS,\n",
              "// WITHOUT WARRANTIES OR CONDITIONS OF ANY KIND, either express or implied.\n",
              "// See the License for the specific language governing permissions and\n",
              "// limitations under the License.\n",
              "\n",
              "/**\n",
              " * @fileoverview Helpers for google.colab Python module.\n",
              " */\n",
              "(function(scope) {\n",
              "function span(text, styleAttributes = {}) {\n",
              "  const element = document.createElement('span');\n",
              "  element.textContent = text;\n",
              "  for (const key of Object.keys(styleAttributes)) {\n",
              "    element.style[key] = styleAttributes[key];\n",
              "  }\n",
              "  return element;\n",
              "}\n",
              "\n",
              "// Max number of bytes which will be uploaded at a time.\n",
              "const MAX_PAYLOAD_SIZE = 100 * 1024;\n",
              "\n",
              "function _uploadFiles(inputId, outputId) {\n",
              "  const steps = uploadFilesStep(inputId, outputId);\n",
              "  const outputElement = document.getElementById(outputId);\n",
              "  // Cache steps on the outputElement to make it available for the next call\n",
              "  // to uploadFilesContinue from Python.\n",
              "  outputElement.steps = steps;\n",
              "\n",
              "  return _uploadFilesContinue(outputId);\n",
              "}\n",
              "\n",
              "// This is roughly an async generator (not supported in the browser yet),\n",
              "// where there are multiple asynchronous steps and the Python side is going\n",
              "// to poll for completion of each step.\n",
              "// This uses a Promise to block the python side on completion of each step,\n",
              "// then passes the result of the previous step as the input to the next step.\n",
              "function _uploadFilesContinue(outputId) {\n",
              "  const outputElement = document.getElementById(outputId);\n",
              "  const steps = outputElement.steps;\n",
              "\n",
              "  const next = steps.next(outputElement.lastPromiseValue);\n",
              "  return Promise.resolve(next.value.promise).then((value) => {\n",
              "    // Cache the last promise value to make it available to the next\n",
              "    // step of the generator.\n",
              "    outputElement.lastPromiseValue = value;\n",
              "    return next.value.response;\n",
              "  });\n",
              "}\n",
              "\n",
              "/**\n",
              " * Generator function which is called between each async step of the upload\n",
              " * process.\n",
              " * @param {string} inputId Element ID of the input file picker element.\n",
              " * @param {string} outputId Element ID of the output display.\n",
              " * @return {!Iterable<!Object>} Iterable of next steps.\n",
              " */\n",
              "function* uploadFilesStep(inputId, outputId) {\n",
              "  const inputElement = document.getElementById(inputId);\n",
              "  inputElement.disabled = false;\n",
              "\n",
              "  const outputElement = document.getElementById(outputId);\n",
              "  outputElement.innerHTML = '';\n",
              "\n",
              "  const pickedPromise = new Promise((resolve) => {\n",
              "    inputElement.addEventListener('change', (e) => {\n",
              "      resolve(e.target.files);\n",
              "    });\n",
              "  });\n",
              "\n",
              "  const cancel = document.createElement('button');\n",
              "  inputElement.parentElement.appendChild(cancel);\n",
              "  cancel.textContent = 'Cancel upload';\n",
              "  const cancelPromise = new Promise((resolve) => {\n",
              "    cancel.onclick = () => {\n",
              "      resolve(null);\n",
              "    };\n",
              "  });\n",
              "\n",
              "  // Wait for the user to pick the files.\n",
              "  const files = yield {\n",
              "    promise: Promise.race([pickedPromise, cancelPromise]),\n",
              "    response: {\n",
              "      action: 'starting',\n",
              "    }\n",
              "  };\n",
              "\n",
              "  cancel.remove();\n",
              "\n",
              "  // Disable the input element since further picks are not allowed.\n",
              "  inputElement.disabled = true;\n",
              "\n",
              "  if (!files) {\n",
              "    return {\n",
              "      response: {\n",
              "        action: 'complete',\n",
              "      }\n",
              "    };\n",
              "  }\n",
              "\n",
              "  for (const file of files) {\n",
              "    const li = document.createElement('li');\n",
              "    li.append(span(file.name, {fontWeight: 'bold'}));\n",
              "    li.append(span(\n",
              "        `(${file.type || 'n/a'}) - ${file.size} bytes, ` +\n",
              "        `last modified: ${\n",
              "            file.lastModifiedDate ? file.lastModifiedDate.toLocaleDateString() :\n",
              "                                    'n/a'} - `));\n",
              "    const percent = span('0% done');\n",
              "    li.appendChild(percent);\n",
              "\n",
              "    outputElement.appendChild(li);\n",
              "\n",
              "    const fileDataPromise = new Promise((resolve) => {\n",
              "      const reader = new FileReader();\n",
              "      reader.onload = (e) => {\n",
              "        resolve(e.target.result);\n",
              "      };\n",
              "      reader.readAsArrayBuffer(file);\n",
              "    });\n",
              "    // Wait for the data to be ready.\n",
              "    let fileData = yield {\n",
              "      promise: fileDataPromise,\n",
              "      response: {\n",
              "        action: 'continue',\n",
              "      }\n",
              "    };\n",
              "\n",
              "    // Use a chunked sending to avoid message size limits. See b/62115660.\n",
              "    let position = 0;\n",
              "    do {\n",
              "      const length = Math.min(fileData.byteLength - position, MAX_PAYLOAD_SIZE);\n",
              "      const chunk = new Uint8Array(fileData, position, length);\n",
              "      position += length;\n",
              "\n",
              "      const base64 = btoa(String.fromCharCode.apply(null, chunk));\n",
              "      yield {\n",
              "        response: {\n",
              "          action: 'append',\n",
              "          file: file.name,\n",
              "          data: base64,\n",
              "        },\n",
              "      };\n",
              "\n",
              "      let percentDone = fileData.byteLength === 0 ?\n",
              "          100 :\n",
              "          Math.round((position / fileData.byteLength) * 100);\n",
              "      percent.textContent = `${percentDone}% done`;\n",
              "\n",
              "    } while (position < fileData.byteLength);\n",
              "  }\n",
              "\n",
              "  // All done.\n",
              "  yield {\n",
              "    response: {\n",
              "      action: 'complete',\n",
              "    }\n",
              "  };\n",
              "}\n",
              "\n",
              "scope.google = scope.google || {};\n",
              "scope.google.colab = scope.google.colab || {};\n",
              "scope.google.colab._files = {\n",
              "  _uploadFiles,\n",
              "  _uploadFilesContinue,\n",
              "};\n",
              "})(self);\n",
              "</script> "
            ]
          },
          "metadata": {}
        },
        {
          "output_type": "stream",
          "name": "stdout",
          "text": [
            "Saving kaggle.json to kaggle.json\n"
          ]
        }
      ],
      "source": [
        "f.upload()\n",
        "! mkdir /content/.kaggle\n",
        "! cp kaggle.json /content/.kaggle/\n",
        "!mv .kaggle /root/"
      ]
    },
    {
      "cell_type": "code",
      "execution_count": null,
      "metadata": {
        "id": "dxCN0SxjMRFX"
      },
      "outputs": [],
      "source": [
        "! chmod 600 ~/.kaggle/kaggle.json"
      ]
    },
    {
      "cell_type": "code",
      "execution_count": null,
      "metadata": {
        "colab": {
          "base_uri": "https://localhost:8080/"
        },
        "id": "ovVQPYfLMSjO",
        "outputId": "7bf2befd-5dc9-40da-e73c-0b8a552e8d44"
      },
      "outputs": [
        {
          "output_type": "stream",
          "name": "stdout",
          "text": [
            "Downloading flickr-image-dataset.zip to /content\n",
            "100% 8.16G/8.16G [06:56<00:00, 24.4MB/s]\n",
            "100% 8.16G/8.16G [06:56<00:00, 21.0MB/s]\n"
          ]
        }
      ],
      "source": [
        "!kaggle datasets download -d hsankesara/flickr-image-dataset"
      ]
    },
    {
      "cell_type": "code",
      "execution_count": null,
      "metadata": {
        "colab": {
          "base_uri": "https://localhost:8080/"
        },
        "id": "H6U2SSlrMT05",
        "outputId": "724af773-aa3b-438f-92b1-d1f2afd56ea1"
      },
      "outputs": [
        {
          "output_type": "stream",
          "name": "stdout",
          "text": [
            "unzip:  cannot find or open /content/flickr-image-dataset, /content/flickr-image-dataset.zip or /content/flickr-image-dataset.ZIP.\n"
          ]
        }
      ],
      "source": [
        "!unzip /content/flickr-image-dataset"
      ]
    },
    {
      "cell_type": "code",
      "source": [
        "drive.mount('/content/mydrive')"
      ],
      "metadata": {
        "colab": {
          "base_uri": "https://localhost:8080/",
          "height": 341
        },
        "id": "KDvKvg2-9dZD",
        "outputId": "308b8d9a-5d08-4de4-d159-0a3dcca396a9"
      },
      "execution_count": null,
      "outputs": [
        {
          "output_type": "error",
          "ename": "MessageError",
          "evalue": "ignored",
          "traceback": [
            "\u001b[0;31m---------------------------------------------------------------------------\u001b[0m",
            "\u001b[0;31mMessageError\u001b[0m                              Traceback (most recent call last)",
            "\u001b[0;32m<ipython-input-7-ee18ce234992>\u001b[0m in \u001b[0;36m<module>\u001b[0;34m\u001b[0m\n\u001b[0;32m----> 1\u001b[0;31m \u001b[0mdrive\u001b[0m\u001b[0;34m.\u001b[0m\u001b[0mmount\u001b[0m\u001b[0;34m(\u001b[0m\u001b[0;34m'/content/mydrive'\u001b[0m\u001b[0;34m)\u001b[0m\u001b[0;34m\u001b[0m\u001b[0;34m\u001b[0m\u001b[0m\n\u001b[0m",
            "\u001b[0;32m/usr/local/lib/python3.7/dist-packages/google/colab/drive.py\u001b[0m in \u001b[0;36mmount\u001b[0;34m(mountpoint, force_remount, timeout_ms, readonly)\u001b[0m\n\u001b[1;32m    104\u001b[0m       \u001b[0mtimeout_ms\u001b[0m\u001b[0;34m=\u001b[0m\u001b[0mtimeout_ms\u001b[0m\u001b[0;34m,\u001b[0m\u001b[0;34m\u001b[0m\u001b[0;34m\u001b[0m\u001b[0m\n\u001b[1;32m    105\u001b[0m       \u001b[0mephemeral\u001b[0m\u001b[0;34m=\u001b[0m\u001b[0;32mTrue\u001b[0m\u001b[0;34m,\u001b[0m\u001b[0;34m\u001b[0m\u001b[0;34m\u001b[0m\u001b[0m\n\u001b[0;32m--> 106\u001b[0;31m       readonly=readonly)\n\u001b[0m\u001b[1;32m    107\u001b[0m \u001b[0;34m\u001b[0m\u001b[0m\n\u001b[1;32m    108\u001b[0m \u001b[0;34m\u001b[0m\u001b[0m\n",
            "\u001b[0;32m/usr/local/lib/python3.7/dist-packages/google/colab/drive.py\u001b[0m in \u001b[0;36m_mount\u001b[0;34m(mountpoint, force_remount, timeout_ms, ephemeral, readonly)\u001b[0m\n\u001b[1;32m    123\u001b[0m   \u001b[0;32mif\u001b[0m \u001b[0mephemeral\u001b[0m\u001b[0;34m:\u001b[0m\u001b[0;34m\u001b[0m\u001b[0;34m\u001b[0m\u001b[0m\n\u001b[1;32m    124\u001b[0m     _message.blocking_request(\n\u001b[0;32m--> 125\u001b[0;31m         'request_auth', request={'authType': 'dfs_ephemeral'}, timeout_sec=None)\n\u001b[0m\u001b[1;32m    126\u001b[0m \u001b[0;34m\u001b[0m\u001b[0m\n\u001b[1;32m    127\u001b[0m   \u001b[0mmountpoint\u001b[0m \u001b[0;34m=\u001b[0m \u001b[0m_os\u001b[0m\u001b[0;34m.\u001b[0m\u001b[0mpath\u001b[0m\u001b[0;34m.\u001b[0m\u001b[0mexpanduser\u001b[0m\u001b[0;34m(\u001b[0m\u001b[0mmountpoint\u001b[0m\u001b[0;34m)\u001b[0m\u001b[0;34m\u001b[0m\u001b[0;34m\u001b[0m\u001b[0m\n",
            "\u001b[0;32m/usr/local/lib/python3.7/dist-packages/google/colab/_message.py\u001b[0m in \u001b[0;36mblocking_request\u001b[0;34m(request_type, request, timeout_sec, parent)\u001b[0m\n\u001b[1;32m    169\u001b[0m   request_id = send_request(\n\u001b[1;32m    170\u001b[0m       request_type, request, parent=parent, expect_reply=True)\n\u001b[0;32m--> 171\u001b[0;31m   \u001b[0;32mreturn\u001b[0m \u001b[0mread_reply_from_input\u001b[0m\u001b[0;34m(\u001b[0m\u001b[0mrequest_id\u001b[0m\u001b[0;34m,\u001b[0m \u001b[0mtimeout_sec\u001b[0m\u001b[0;34m)\u001b[0m\u001b[0;34m\u001b[0m\u001b[0;34m\u001b[0m\u001b[0m\n\u001b[0m",
            "\u001b[0;32m/usr/local/lib/python3.7/dist-packages/google/colab/_message.py\u001b[0m in \u001b[0;36mread_reply_from_input\u001b[0;34m(message_id, timeout_sec)\u001b[0m\n\u001b[1;32m    100\u001b[0m         reply.get('colab_msg_id') == message_id):\n\u001b[1;32m    101\u001b[0m       \u001b[0;32mif\u001b[0m \u001b[0;34m'error'\u001b[0m \u001b[0;32min\u001b[0m \u001b[0mreply\u001b[0m\u001b[0;34m:\u001b[0m\u001b[0;34m\u001b[0m\u001b[0;34m\u001b[0m\u001b[0m\n\u001b[0;32m--> 102\u001b[0;31m         \u001b[0;32mraise\u001b[0m \u001b[0mMessageError\u001b[0m\u001b[0;34m(\u001b[0m\u001b[0mreply\u001b[0m\u001b[0;34m[\u001b[0m\u001b[0;34m'error'\u001b[0m\u001b[0;34m]\u001b[0m\u001b[0;34m)\u001b[0m\u001b[0;34m\u001b[0m\u001b[0;34m\u001b[0m\u001b[0m\n\u001b[0m\u001b[1;32m    103\u001b[0m       \u001b[0;32mreturn\u001b[0m \u001b[0mreply\u001b[0m\u001b[0;34m.\u001b[0m\u001b[0mget\u001b[0m\u001b[0;34m(\u001b[0m\u001b[0;34m'data'\u001b[0m\u001b[0;34m,\u001b[0m \u001b[0;32mNone\u001b[0m\u001b[0;34m)\u001b[0m\u001b[0;34m\u001b[0m\u001b[0;34m\u001b[0m\u001b[0m\n\u001b[1;32m    104\u001b[0m \u001b[0;34m\u001b[0m\u001b[0m\n",
            "\u001b[0;31mMessageError\u001b[0m: Error: credential propagation was unsuccessful"
          ]
        }
      ]
    },
    {
      "cell_type": "code",
      "execution_count": null,
      "metadata": {
        "id": "5oxp8io1MzUM"
      },
      "outputs": [],
      "source": [
        "# Path to dataset\n",
        "path = '/content/flickr30k_images/flickr30k_images/'\n",
        "extra = path + \"flickr30k_images\"\n",
        "!rm -rf extra\n",
        "\n",
        "files = glob.glob(path + \"*.jpg\")"
      ]
    },
    {
      "cell_type": "code",
      "execution_count": null,
      "metadata": {
        "id": "gaalDMtHvJrS"
      },
      "outputs": [],
      "source": [
        "# Preprocessing\n",
        "\n",
        "def preprocess(img_list):\n",
        "    l_list = [0]*len(img_list)\n",
        "    ab_list = [0]*len(img_list)\n",
        "\n",
        "    for i in range(len(img_list)):\n",
        "      image = cv2.imread(img_list[i])\n",
        "\n",
        "      # Resize image\n",
        "      image = cv2.resize(image, (224, 224))\n",
        "\n",
        "      # Convert to LAB space\n",
        "      lab = rgb2lab(image)\n",
        "\n",
        "      # Extract L\n",
        "      l_list[i] = lab[:, :, 0].reshape((224, 224, 1))\n",
        "#      l_list[i] = np.stack((l_list[i],)*3, axis=2).reshape((224, 224, 3))\n",
        "\n",
        "      ab_list[i] = lab[:, :, 1:]\n",
        "\n",
        "    l_list = np.array(l_list)\n",
        "    ab_list = np.array(ab_list)\n",
        "\n",
        "    return l_list, ab_list\n"
      ]
    },
    {
      "cell_type": "code",
      "source": [
        "def visualize(l, ab):\n",
        "  l = l.reshape((224, 224, 1))\n",
        "  \n",
        "  a =  ab[:, :, 0].reshape((224, 224, 1))\n",
        "  b = ab[:, :, 1].reshape((224, 224, 1))\n",
        "\n",
        "  outimg = np.stack((l, a, b), axis=2)\n",
        "\n",
        "  outimg = outimg.reshape((224, 224, 3))\n",
        "\n",
        "  r = lab2rgb(outimg)*255\n",
        "  cv2_imshow(r)"
      ],
      "metadata": {
        "id": "glJm4O-5-FHY"
      },
      "execution_count": null,
      "outputs": []
    },
    {
      "cell_type": "code",
      "source": [
        "from keras.layers import Conv2D\n",
        "from keras.layers import UpSampling2D\n",
        "from keras.models import Model\n",
        "from keras.layers import Input\n",
        "from keras.layers import Dense\n",
        "from keras.layers import Dropout\n",
        "from keras.layers import RepeatVector\n",
        "from keras.layers import Reshape\n",
        "from keras.layers import Concatenate\n",
        "from keras.utils import plot_model\n",
        "from os import listdir\n",
        "from pickle import load\n",
        "import numpy as np\n",
        "\n",
        "class CNN(Model):\n",
        "\n",
        "  def __init__(self, path = None):\n",
        "    super().__init__()\n",
        "    if path: # Load saved model\n",
        "      self.model = tf.keras.models.load_model(path)\n",
        "    else: # Training new model\n",
        "      self.model_input = Input(shape=(224, 224, 1,))\n",
        "\n",
        "      # Feature extractor model\n",
        "      self.extractor_input = Input(shape=(4096,))\n",
        "      self.image_feature = Dropout(0.5)(self.extractor_input)\n",
        "      self.image_feature = Dense(1024, activation='relu')(self.image_feature)\n",
        "\n",
        "      encoder_output = Conv2D(64, (3,3), activation='relu', padding='same', strides=2)(self.model_input)\n",
        "      encoder_output = Conv2D(128, (3,3), activation='relu', padding='same')(encoder_output)\n",
        "      encoder_output = Conv2D(128, (3,3), activation='relu', padding='same', strides=2)(encoder_output)\n",
        "      encoder_output = Conv2D(256, (3,3), activation='relu', padding='same')(encoder_output)\n",
        "      encoder_output = Conv2D(256, (3,3), activation='relu', padding='same', strides=2)(encoder_output)\n",
        "      encoder_output = Conv2D(512, (3,3), activation='relu', padding='same')(encoder_output)\n",
        "      encoder_output = Conv2D(512, (3,3), activation='relu', padding='same')(encoder_output)\n",
        "      encoder_output = Conv2D(256, (3,3), activation='relu', padding='same')(encoder_output)\n",
        "\n",
        "      # concat_shape = (np.uint32(encoder_output.shape[1]), np.uint32(encoder_output.shape[2]),np.uint32(self.extractor_input.shape[-1]))\n",
        "\n",
        "      # image_feature = RepeatVector(int(concat_shape[0]*concat_shape[1]))(self.extractor_input)\n",
        "      # image_feature = Reshape(concat_shape)(image_feature)\n",
        "\n",
        "      # fusion_output = Concatenate(axis=3)([encoder_output, image_feature])\n",
        "    \n",
        "      decoder_output = Conv2D(128, (3,3), activation='relu', padding='same')(encoder_output)\n",
        "      decoder_output = UpSampling2D((2, 2))(decoder_output)\n",
        "      decoder_output = Conv2D(64, (3,3), activation='relu', padding='same')(decoder_output)\n",
        "      decoder_output = UpSampling2D((2, 2))(decoder_output)\n",
        "      decoder_output = Conv2D(32, (3,3), activation='relu', padding='same')(decoder_output)\n",
        "      decoder_output = Conv2D(16, (3,3), activation='relu', padding='same')(decoder_output)\n",
        "      decoder_output = Conv2D(2, (3, 3), activation='tanh', padding='same')(decoder_output)\n",
        "      decoder_output = UpSampling2D((2, 2))(decoder_output)\n",
        "\n",
        "      self.model = Model(inputs=[self.model_input], outputs=decoder_output)\n",
        "      self.model.compile(loss='mean_squared_error', optimizer='adam', metrics=['acc'])\n",
        "      # summarize model\n",
        "      #print(self.model.summary())\n",
        "      #plot_model(model, to_file='autoencoder_colorization_merged.png', show_shapes=True)\n",
        "      "
      ],
      "metadata": {
        "id": "PPgf2TzMAhhV"
      },
      "execution_count": null,
      "outputs": []
    },
    {
      "cell_type": "code",
      "source": [
        "# Performing gridsearch?\n",
        "# for each hyperparameter:\n",
        "#   for each set of data:\n",
        "#     if not first iteration:\n",
        "#       load previous model\n",
        "#     else:\n",
        "#       create new model\n",
        "#\n",
        "#     X = l_files[i*200:(i+1)*200]\n",
        "#     y = ab_files[i*200:(i+1)*200]\n",
        "#     train model\n",
        "#     save metrics (loss, accuracy)\n",
        "#     save model"
      ],
      "metadata": {
        "id": "_CxyNhseTcye"
      },
      "execution_count": null,
      "outputs": []
    },
    {
      "cell_type": "code",
      "source": [
        "LEARNING_RATES = [0.0001, 0.001, 0.01]\n",
        "\n",
        "train = files[:30000]\n",
        "test = files[30000:]\n",
        "\n",
        "BATCH_SIZE = 50 # each epoch takes 4 iterations"
      ],
      "metadata": {
        "id": "baEeS5P5Xc9P"
      },
      "execution_count": null,
      "outputs": []
    },
    {
      "cell_type": "code",
      "source": [
        "print(\"Training model...\")\n",
        "\n",
        "for alpha in LEARNING_RATES:\n",
        "  print(f\"Training for learning rate {alpha}...\")\n",
        "\n",
        "  alpha_path = f\"/content/mydrive/MyDrive/models/LEARNING_RATES/{alpha}\"\n",
        "  ! mkdir {alpha_path}\n",
        "\n",
        "  for i in range(150):\n",
        "    print(f\"Starting batch {i} of 150...\")\n",
        "    model_path = alpha_path + f\"/{i}\"\n",
        "\n",
        "    if i == 0:\n",
        "      cnn = CNN().model\n",
        "    elif (i-1) % 30 == 0:\n",
        "      # Load previous model\n",
        "      prev_path = alpha_path + f\"/{i-1}\"\n",
        "      cnn = CNN(path = prev_path).model\n",
        "\n",
        "    l_files, ab_files = preprocess(train[i*200:(i+1)*200])\n",
        "\n",
        "    X = l_files\n",
        "    y = ab_files\n",
        "\n",
        "    cnn.fit(x=X,y=y,validation_split=0.1, epochs=5, batch_size=BATCH_SIZE, verbose=0, use_multiprocessing=True, workers=16)\n",
        "\n",
        "    # Save metrics\n",
        "    history = cnn.history.history\n",
        "    print(history)\n",
        "\n",
        "    with open(model_path + f\"_metrics.txt\", 'w') as f:\n",
        "      f.write(json.dumps(history))\n",
        "      \n",
        "    # Save model\n",
        "    if i % 30 == 0:\n",
        "      cnn.save(model_path)\n",
        "\n",
        "  # Out of loop, save final model\n",
        "  cnn.save(alpha_path + \"/FINAL\")\n",
        "\n",
        "    "
      ],
      "metadata": {
        "id": "WygpK4AbVoYT"
      },
      "execution_count": null,
      "outputs": []
    },
    {
      "cell_type": "code",
      "source": [
        "# Testing FINAL model\n",
        "\n",
        "cnnmodel = CNN(\"/content/mydrive/MyDrive/models/LEARNING_RATES/0.0001/FINAL\").model\n",
        "\n",
        "l, ab = preprocess([test[10]])\n",
        "\n",
        "out1 = cnnmodel.predict(x=l)"
      ],
      "metadata": {
        "id": "dM_bQnZW193F"
      },
      "execution_count": null,
      "outputs": []
    },
    {
      "cell_type": "code",
      "source": [
        "visualize(l[0], ab[0])"
      ],
      "metadata": {
        "id": "YuuoB8Ow2-v3"
      },
      "execution_count": null,
      "outputs": []
    },
    {
      "cell_type": "code",
      "source": [
        "visualize(l[0], out1[0]*128)"
      ],
      "metadata": {
        "id": "Pqt65Z7H40mO"
      },
      "execution_count": null,
      "outputs": []
    },
    {
      "cell_type": "code",
      "source": [
        "# Testing FINAL model\n",
        "\n",
        "cnnmodel = CNN(\"/content/mydrive/MyDrive/models/LEARNING_RATES/0.001/FINAL\").model\n",
        "\n",
        "l, ab = preprocess([test[10]])\n",
        "\n",
        "out2 = cnnmodel.predict(x=l)"
      ],
      "metadata": {
        "id": "VGIEpzqsQoei"
      },
      "execution_count": null,
      "outputs": []
    },
    {
      "cell_type": "code",
      "source": [
        "visualize(l[0], out2[0]*128)"
      ],
      "metadata": {
        "id": "XXAB1IjGQqkX"
      },
      "execution_count": null,
      "outputs": []
    },
    {
      "cell_type": "code",
      "source": [
        "# Testing FINAL model\n",
        "\n",
        "cnnmodel = CNN(\"/content/mydrive/MyDrive/models/LEARNING_RATES/0.01/FINAL\").model\n",
        "\n",
        "l, ab = preprocess([test[10]])\n",
        "\n",
        "out3 = cnnmodel.predict(x=l)"
      ],
      "metadata": {
        "id": "dVA-QAWkQrxP"
      },
      "execution_count": null,
      "outputs": []
    },
    {
      "cell_type": "code",
      "source": [
        "visualize(l[0], out3[0]*128)"
      ],
      "metadata": {
        "id": "e3A1u0TbQt4S"
      },
      "execution_count": null,
      "outputs": []
    },
    {
      "cell_type": "code",
      "source": [
        "# Print metrics for each model\n",
        "\n",
        "losses = {}\n",
        "acc = {}\n",
        "val_loss = {}\n",
        "val_acc = {}\n",
        "\n",
        "for alpha in LEARNING_RATES:\n",
        "  alpha_path = f\"/content/mydrive/MyDrive/models/LEARNING_RATES/{alpha}\"\n",
        "\n",
        "  text_paths = glob.glob(alpha_path + \"/*.txt\")\n",
        "\n",
        "  l = []\n",
        "  a = []\n",
        "  ll = []\n",
        "  la = []\n",
        "\n",
        "  for text in text_paths:\n",
        "\n",
        "    with open(text) as f:\n",
        "      data = json.load(f)\n",
        "\n",
        "      l.extend(data['loss'])\n",
        "      a.extend(data['acc'])\n",
        "      ll.extend(data['val_loss'])\n",
        "      la.extend(data['val_acc'])\n",
        "\n",
        "    losses[alpha] = l\n",
        "    acc[alpha] = a\n",
        "    val_loss[alpha] = ll\n",
        "    val_acc[alpha] = la\n"
      ],
      "metadata": {
        "id": "tbS_MEItZZND"
      },
      "execution_count": null,
      "outputs": []
    },
    {
      "cell_type": "code",
      "source": [
        "def print_metrics(loss, acc, val_loss, val_acc, title):\n",
        "\n",
        "  epochs = np.arange(5*150)\n",
        "\n",
        "  plt.figure(figsize=(10, 15))\n",
        "  plt.subplot(2, 1, 1)\n",
        "  plt.plot(epochs, loss)\n",
        "  plt.plot(epochs, val_loss)\n",
        "  plt.legend(['Train', 'Validation'])\n",
        "  plt.xlabel('Epoch')\n",
        "  plt.ylabel(\"Loss\")\n",
        "  plt.title(title)\n",
        "\n",
        "  plt.subplot(2, 1, 2)\n",
        "  plt.plot(epochs, acc)\n",
        "  plt.plot(epochs, val_acc)\n",
        "  plt.legend(['Train', 'Validation'])\n",
        "  plt.xlabel('Epoch')\n",
        "  plt.ylabel(\"Accuracy\")\n",
        "\n",
        "  plt.show()\n",
        "  "
      ],
      "metadata": {
        "id": "TqkDgdd9dxUr"
      },
      "execution_count": null,
      "outputs": []
    },
    {
      "cell_type": "code",
      "source": [
        "print_metrics(losses[0.0001], acc[0.0001], val_loss[0.0001], val_acc[0.0001], \"Learning Rate = 0.0001\")"
      ],
      "metadata": {
        "id": "ohuY_h1ZZ3EW"
      },
      "execution_count": null,
      "outputs": []
    },
    {
      "cell_type": "code",
      "source": [
        "print_metrics(losses[0.001], acc[0.001], val_loss[0.001], val_acc[0.001], \"Learning Rate = 0.001\")"
      ],
      "metadata": {
        "id": "KkffevI3e67q"
      },
      "execution_count": null,
      "outputs": []
    },
    {
      "cell_type": "code",
      "source": [
        "print_metrics(losses[0.01], acc[0.01], val_loss[0.01], val_acc[0.01], \"Learning Rate = 0.01\")"
      ],
      "metadata": {
        "id": "0vJ0Vkf0eftt"
      },
      "execution_count": null,
      "outputs": []
    },
    {
      "cell_type": "code",
      "source": [],
      "metadata": {
        "id": "XuT9tyfifZu1"
      },
      "execution_count": null,
      "outputs": []
    }
  ],
  "metadata": {
    "accelerator": "GPU",
    "colab": {
      "provenance": [],
      "include_colab_link": true
    },
    "gpuClass": "standard",
    "kernelspec": {
      "display_name": "Python 3",
      "name": "python3"
    },
    "language_info": {
      "name": "python"
    }
  },
  "nbformat": 4,
  "nbformat_minor": 0
}