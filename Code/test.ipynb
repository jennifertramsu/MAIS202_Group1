{
 "cells": [
  {
   "cell_type": "code",
   "execution_count": 2,
   "metadata": {},
   "outputs": [
    {
     "name": "stderr",
     "output_type": "stream",
     "text": [
      "/home/jennifertramsu/programs/miniconda3/envs/mais/lib/python3.10/site-packages/tqdm/auto.py:22: TqdmWarning: IProgress not found. Please update jupyter and ipywidgets. See https://ipywidgets.readthedocs.io/en/stable/user_install.html\n",
      "  from .autonotebook import tqdm as notebook_tqdm\n"
     ]
    }
   ],
   "source": [
    "\n",
    "# ----------------------------------------------------------------------------------------------\n",
    "# MAIS202 Group 1 - Fall 2022 Final Project\n",
    "# Jennifer Tram Su, Lucy Mao\n",
    "# Image Colourization using Vision Transformers (ViT)\n",
    "#\n",
    "# Input : Single channel representation of greyscale image\n",
    "# Output : Two/three channel representation of colourized image\n",
    "#\n",
    "# References : \n",
    "# @Article{MaskedAutoencoders2021,\n",
    "#   author  = {Kaiming He and Xinlei Chen and Saining Xie and Yanghao Li and Piotr Doll{\\'a}r and Ross Girshick},\n",
    "#   journal = {arXiv:2111.06377},\n",
    "#   title   = {Masked Autoencoders Are Scalable Vision Learners},\n",
    "#   year    = {2021},\n",
    "# }\n",
    "# ----------------------------------------------------------------------------------------------\n",
    "\n",
    "# File Handling\n",
    "import glob\n",
    "\n",
    "# Manipulation\n",
    "import numpy as np\n",
    "from PIL import Image\n",
    "import matplotlib.pyplot as plt\n",
    "import requests\n",
    "\n",
    "# Helpers\n",
    "#from visualize import show_image\n",
    "\n",
    "# Models\n",
    "from transformers import ViTMAEForPreTraining, ViTFeatureExtractor, ViTModel\n",
    "import torch\n",
    "\n",
    "# ----------------------------------------------------------------------------------------------\n",
    "\n",
    "## Scripts / Functions Required\n",
    "\n",
    "# 1 ) Preprocessing Code\n",
    "# --> Images are converted to BW, resized to 224 x 224 pixels\n",
    "# --> Trying both LAB and RGB colour spaces\n",
    "# --> Data split into training and test sets\n",
    "\n",
    "# 2 ) Training the Model\n",
    "# --> Training inside loop, save loss at end of each iteration\n",
    "# --> need training and loss function\n",
    "\n",
    "# 3 ) Main Body\n",
    "# --> This is where everything is put together\n",
    "# --> Initializing hyperparameters, weights\n",
    "\n",
    "# ----------------------------------------------------------------------------------------------\n",
    "# Train Test Split\n",
    "\n",
    "path = 'Datasets'\n",
    "ab = path + '/ab/*'\n",
    "l = path + '/l/*' \n",
    "\n",
    "lfiles = glob.glob(l)\n",
    "abfiles = glob.glob(ab)\n",
    "\n",
    "abs = [np.load(abfiles[i]) for i in range(len(abfiles))] # [num photos, dim1, dim2, 2]\n",
    "ls = np.load(lfiles[0])\n",
    "\n",
    "ab_train = np.append(abs[0], abs[1], axis=0) # abs[0], abs[1]\n",
    "ab_test = abs[2]\n",
    "\n",
    "l_train = ls[:20000, :, :]\n",
    "l_test = ls[20000:, :, :]\n",
    "\n",
    "# ----------------------------------------------------------------------------------------------\n",
    "\n",
    "# Training from Scratch\n",
    "# Can split greyscale into three identical channels\n",
    "\n",
    "# ----------------------------------------------------------------------------------------------\n",
    "# Building Model\n",
    "t = np.reshape(l_train[0], (1, 224, 224))\n",
    "\n",
    "t = np.append(t, np.append(t, t, axis=0), axis=0)\n",
    "\n",
    "#t = np.reshape(t, (1, 3, 224, 224))\n",
    "\n",
    "t = Image.fromarray(t, mode='RGB')\n"
   ]
  },
  {
   "cell_type": "code",
   "execution_count": 4,
   "metadata": {},
   "outputs": [
    {
     "ename": "",
     "evalue": "",
     "output_type": "error",
     "traceback": [
      "\u001b[1;31mThe Kernel crashed while executing code in the the current cell or a previous cell. Please review the code in the cell(s) to identify a possible cause of the failure. Click <a href='https://aka.ms/vscodeJupyterKernelCrash'>here</a> for more info. View Jupyter <a href='command:jupyter.viewOutput'>log</a> for further details."
     ]
    }
   ],
   "source": [
    "t = np.stack((l_train[0],)*3, axis=-1)\n",
    "\n",
    "b = Image.fromarray(t)\n",
    "\n"
   ]
  },
  {
   "cell_type": "code",
   "execution_count": null,
   "metadata": {},
   "outputs": [],
   "source": []
  },
  {
   "cell_type": "markdown",
   "metadata": {},
   "source": []
  }
 ],
 "metadata": {
  "kernelspec": {
   "display_name": "Python 3.10.6 ('mais')",
   "language": "python",
   "name": "python3"
  },
  "language_info": {
   "codemirror_mode": {
    "name": "ipython",
    "version": 3
   },
   "file_extension": ".py",
   "mimetype": "text/x-python",
   "name": "python",
   "nbconvert_exporter": "python",
   "pygments_lexer": "ipython3",
   "version": "3.10.6"
  },
  "orig_nbformat": 4,
  "vscode": {
   "interpreter": {
    "hash": "0111e3fba090b038a7123b9e23f8d01ae43d39ccee8f8d8074f3f1c124641d1f"
   }
  }
 },
 "nbformat": 4,
 "nbformat_minor": 2
}
